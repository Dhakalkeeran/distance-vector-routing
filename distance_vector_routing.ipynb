{
 "cells": [
  {
   "cell_type": "code",
   "execution_count": 1,
   "metadata": {},
   "outputs": [
    {
     "name": "stdout",
     "output_type": "stream",
     "text": [
      "[[1, 2, 2], [1, 3, 6], [1, 4, 7], [1, 5, 2], [2, 4, 10], [2, 5, 2], [3, 5, 2], [4, 6, 3], [5, 6, 1]]\n"
     ]
    }
   ],
   "source": [
    "rows = []\n",
    "routes = open(\"routes.txt\", \"r+\")\n",
    "for row in routes:\n",
    "    row = row.rstrip()\n",
    "    row = row.split()\n",
    "    try:\n",
    "        row = [int(r) for r in row]\n",
    "    except:\n",
    "        pass\n",
    "    rows.append(row)\n",
    "print(rows)"
   ]
  },
  {
   "cell_type": "code",
   "execution_count": 2,
   "metadata": {},
   "outputs": [
    {
     "name": "stdout",
     "output_type": "stream",
     "text": [
      "Nodes: [1, 2, 3, 4, 5, 6]\n",
      "Nodes count: 6\n",
      "Node order: {1: 0, 2: 1, 3: 2, 4: 3, 5: 4, 6: 5}\n"
     ]
    }
   ],
   "source": [
    "# Finding out the nodes from the list of nodes and links\n",
    "\n",
    "import numpy as np\n",
    "import itertools\n",
    "\n",
    "array = np.array(rows)\n",
    "all_nodes = array[:, :2]\n",
    "nodes = sorted(set(itertools.chain(*all_nodes)))\n",
    "try:\n",
    "    nodes = [int(node) for node in nodes]\n",
    "except:\n",
    "    pass\n",
    "nodes_count = len(nodes)\n",
    "node_index = {node: idx for idx, node in enumerate(nodes)}\n",
    "print(f\"Nodes: {nodes}\")\n",
    "print(f\"Nodes count: {len(nodes)}\")\n",
    "print(f\"Node order: {node_index}\")"
   ]
  },
  {
   "cell_type": "code",
   "execution_count": 3,
   "metadata": {},
   "outputs": [
    {
     "name": "stdout",
     "output_type": "stream",
     "text": [
      "[[[2, 2, 2], [3, 3, 6], [4, 4, 7], [5, 5, 2]], [[1, 1, 2], [4, 4, 10], [5, 5, 2]], [[1, 1, 6], [5, 5, 2]], [[1, 1, 7], [2, 2, 10], [6, 6, 3]], [[1, 1, 2], [2, 2, 2], [3, 3, 2], [6, 6, 1]], [[4, 4, 3], [5, 5, 1]]]\n"
     ]
    }
   ],
   "source": [
    "#nodes_count = 6\n",
    "all_routes = []\n",
    "for i in nodes:\n",
    "    routes = []\n",
    "    for row in rows:\n",
    "        if i == row[0]:     # checking if node matches with the first element in the list\n",
    "            dnc = [row[1], row[1], row[2]]      # (destination node, next node, link cost)\n",
    "            routes.append(dnc)\n",
    "            \n",
    "        elif i == row[1]:   # checking if node matches with the second element in the list\n",
    "            dnc = [row[0], row[0], row[2]]      # (destination node, next node, link cost)\n",
    "            routes.append(dnc)\n",
    "            \n",
    "    all_routes.append(routes)  \n",
    "print(all_routes)"
   ]
  },
  {
   "cell_type": "code",
   "execution_count": 4,
   "metadata": {},
   "outputs": [
    {
     "name": "stdout",
     "output_type": "stream",
     "text": [
      "routing table of node 1 = [[2, 2, 2], [3, 3, 6], [4, 4, 7], [5, 5, 2]]\n",
      "routing table of node 2 = [[1, 1, 2], [4, 4, 10], [5, 5, 2]]\n",
      "routing table of node 3 = [[1, 1, 6], [5, 5, 2]]\n",
      "routing table of node 4 = [[1, 1, 7], [2, 2, 10], [6, 6, 3]]\n",
      "routing table of node 5 = [[1, 1, 2], [2, 2, 2], [3, 3, 2], [6, 6, 1]]\n",
      "routing table of node 6 = [[4, 4, 3], [5, 5, 1]]\n"
     ]
    }
   ],
   "source": [
    "# The list \"all_routes\" will have the routing table of nodes as given above in this cell\n",
    "'''all_routes = [[[2, 2, 2],\n",
    "                [3, 3, 6],\n",
    "                [4, 4, 7],\n",
    "                [5, 5, 2]],\n",
    "                \n",
    "               [[1, 1, 2],\n",
    "                [4, 4, 10],\n",
    "                [5, 5, 2]],\n",
    "                \n",
    "               [[1, 1, 6],\n",
    "                [5, 5, 2]],\n",
    "        \n",
    "               [[1, 1, 7],\n",
    "                [2, 2, 10],\n",
    "                [6, 6, 3]],\n",
    "            \n",
    "               [[1, 1, 2],\n",
    "                [2, 2, 2],\n",
    "                [3, 3, 2],\n",
    "                [6, 6, 1]],\n",
    "                \n",
    "               [[4, 4, 3],\n",
    "                [5, 5, 1]]]'''\n",
    "\n",
    "# Printing the initial routing tables of the nodes in a serial fashion (from 1 to 6 in this case)\n",
    "for i in range(nodes_count):\n",
    "    print(f\"routing table of node {i+1} = {all_routes[i]}\")"
   ]
  },
  {
   "cell_type": "code",
   "execution_count": 5,
   "metadata": {},
   "outputs": [
    {
     "name": "stdout",
     "output_type": "stream",
     "text": [
      "[[2, 3, 4, 5], [1, 4, 5], [1, 5], [1, 2, 6], [1, 2, 3, 6], [4, 5]]\n"
     ]
    }
   ],
   "source": [
    "from copy import deepcopy\n",
    "import time\n",
    "\n",
    "connected_nodes = []\n",
    "for i in range(nodes_count):\n",
    "    table = all_routes[i]\n",
    "    # append the connected nodes such as nodes 2, 3, 4 and 5 are connected to node 1 and so on \n",
    "    connected_nodes.append([row[0] for row in table])\n",
    "print(connected_nodes)"
   ]
  },
  {
   "cell_type": "code",
   "execution_count": 6,
   "metadata": {},
   "outputs": [],
   "source": [
    "def update_routes(nodes, connected_nodes, all_routes):\n",
    "    all_routes = deepcopy(all_routes)\n",
    "    for i, node in enumerate(nodes):\n",
    "        for n in connected_nodes[i]:\n",
    "            reference_table = all_routes[node_index.get(n)]\n",
    "            \n",
    "            for row in reference_table:\n",
    "                if row[0] == node:         # finding current node in reference table\n",
    "                    base_dist = row[2] \n",
    "                    break\n",
    "                    \n",
    "            for row in reference_table:        \n",
    "                if row[0] != node:         # finding distance to nodes other than the current node\n",
    "                    temp_dist = base_dist + row[2]\n",
    "                    \n",
    "                    table_to_update = all_routes[i]\n",
    "                    for k, table_row in enumerate(table_to_update):\n",
    "                        # check if node in reference routing table of connected node is in the routing table of the current node\n",
    "                        if row[0] == table_row[0]:\n",
    "                            if temp_dist < table_row[2]:\n",
    "                                table_row[2] = temp_dist\n",
    "                                table_row[1] = n\n",
    "                            break\n",
    "                                \n",
    "                        elif k == len(table_to_update) - 1:\n",
    "                            table_to_update.append([row[0], n, temp_dist])\n",
    "                            \n",
    "        print(all_routes)\n",
    "        print(\"\\n\")\n",
    "        \n",
    "    return all_routes"
   ]
  },
  {
   "cell_type": "code",
   "execution_count": 7,
   "metadata": {},
   "outputs": [
    {
     "name": "stdout",
     "output_type": "stream",
     "text": [
      "Iteration 1\n",
      "-----------------------------------------------\n",
      "[[[2, 2, 2], [3, 5, 4], [4, 4, 7], [5, 5, 2], [6, 5, 3]], [[1, 1, 2], [4, 4, 10], [5, 5, 2]], [[1, 1, 6], [5, 5, 2]], [[1, 1, 7], [2, 2, 10], [6, 6, 3]], [[1, 1, 2], [2, 2, 2], [3, 3, 2], [6, 6, 1]], [[4, 4, 3], [5, 5, 1]]]\n",
      "\n",
      "\n",
      "[[[2, 2, 2], [3, 5, 4], [4, 4, 7], [5, 5, 2], [6, 5, 3]], [[1, 1, 2], [4, 1, 9], [5, 5, 2], [3, 5, 4], [6, 5, 3]], [[1, 1, 6], [5, 5, 2]], [[1, 1, 7], [2, 2, 10], [6, 6, 3]], [[1, 1, 2], [2, 2, 2], [3, 3, 2], [6, 6, 1]], [[4, 4, 3], [5, 5, 1]]]\n",
      "\n",
      "\n",
      "[[[2, 2, 2], [3, 5, 4], [4, 4, 7], [5, 5, 2], [6, 5, 3]], [[1, 1, 2], [4, 1, 9], [5, 5, 2], [3, 5, 4], [6, 5, 3]], [[1, 5, 4], [5, 5, 2], [2, 5, 4], [4, 1, 11], [6, 5, 3]], [[1, 1, 7], [2, 2, 10], [6, 6, 3]], [[1, 1, 2], [2, 2, 2], [3, 3, 2], [6, 6, 1]], [[4, 4, 3], [5, 5, 1]]]\n",
      "\n",
      "\n",
      "[[[2, 2, 2], [3, 5, 4], [4, 4, 7], [5, 5, 2], [6, 5, 3]], [[1, 1, 2], [4, 1, 9], [5, 5, 2], [3, 5, 4], [6, 5, 3]], [[1, 5, 4], [5, 5, 2], [2, 5, 4], [4, 1, 11], [6, 5, 3]], [[1, 1, 7], [2, 1, 9], [6, 6, 3], [3, 1, 11], [5, 6, 4]], [[1, 1, 2], [2, 2, 2], [3, 3, 2], [6, 6, 1]], [[4, 4, 3], [5, 5, 1]]]\n",
      "\n",
      "\n",
      "[[[2, 2, 2], [3, 5, 4], [4, 4, 7], [5, 5, 2], [6, 5, 3]], [[1, 1, 2], [4, 1, 9], [5, 5, 2], [3, 5, 4], [6, 5, 3]], [[1, 5, 4], [5, 5, 2], [2, 5, 4], [4, 1, 11], [6, 5, 3]], [[1, 1, 7], [2, 1, 9], [6, 6, 3], [3, 1, 11], [5, 6, 4]], [[1, 1, 2], [2, 2, 2], [3, 3, 2], [6, 6, 1], [4, 6, 4]], [[4, 4, 3], [5, 5, 1]]]\n",
      "\n",
      "\n",
      "[[[2, 2, 2], [3, 5, 4], [4, 4, 7], [5, 5, 2], [6, 5, 3]], [[1, 1, 2], [4, 1, 9], [5, 5, 2], [3, 5, 4], [6, 5, 3]], [[1, 5, 4], [5, 5, 2], [2, 5, 4], [4, 1, 11], [6, 5, 3]], [[1, 1, 7], [2, 1, 9], [6, 6, 3], [3, 1, 11], [5, 6, 4]], [[1, 1, 2], [2, 2, 2], [3, 3, 2], [6, 6, 1], [4, 6, 4]], [[4, 4, 3], [5, 5, 1], [1, 5, 3], [2, 5, 3], [3, 5, 3]]]\n",
      "\n",
      "\n",
      "### Let's try this again! ###\n",
      "Iteration 2\n",
      "-----------------------------------------------\n",
      "[[[2, 2, 2], [3, 5, 4], [4, 5, 6], [5, 5, 2], [6, 5, 3]], [[1, 1, 2], [4, 1, 9], [5, 5, 2], [3, 5, 4], [6, 5, 3]], [[1, 5, 4], [5, 5, 2], [2, 5, 4], [4, 1, 11], [6, 5, 3]], [[1, 1, 7], [2, 1, 9], [6, 6, 3], [3, 1, 11], [5, 6, 4]], [[1, 1, 2], [2, 2, 2], [3, 3, 2], [6, 6, 1], [4, 6, 4]], [[4, 4, 3], [5, 5, 1], [1, 5, 3], [2, 5, 3], [3, 5, 3]]]\n",
      "\n",
      "\n",
      "[[[2, 2, 2], [3, 5, 4], [4, 5, 6], [5, 5, 2], [6, 5, 3]], [[1, 1, 2], [4, 5, 6], [5, 5, 2], [3, 5, 4], [6, 5, 3]], [[1, 5, 4], [5, 5, 2], [2, 5, 4], [4, 1, 11], [6, 5, 3]], [[1, 1, 7], [2, 1, 9], [6, 6, 3], [3, 1, 11], [5, 6, 4]], [[1, 1, 2], [2, 2, 2], [3, 3, 2], [6, 6, 1], [4, 6, 4]], [[4, 4, 3], [5, 5, 1], [1, 5, 3], [2, 5, 3], [3, 5, 3]]]\n",
      "\n",
      "\n",
      "[[[2, 2, 2], [3, 5, 4], [4, 5, 6], [5, 5, 2], [6, 5, 3]], [[1, 1, 2], [4, 5, 6], [5, 5, 2], [3, 5, 4], [6, 5, 3]], [[1, 5, 4], [5, 5, 2], [2, 5, 4], [4, 5, 6], [6, 5, 3]], [[1, 1, 7], [2, 1, 9], [6, 6, 3], [3, 1, 11], [5, 6, 4]], [[1, 1, 2], [2, 2, 2], [3, 3, 2], [6, 6, 1], [4, 6, 4]], [[4, 4, 3], [5, 5, 1], [1, 5, 3], [2, 5, 3], [3, 5, 3]]]\n",
      "\n",
      "\n",
      "[[[2, 2, 2], [3, 5, 4], [4, 5, 6], [5, 5, 2], [6, 5, 3]], [[1, 1, 2], [4, 5, 6], [5, 5, 2], [3, 5, 4], [6, 5, 3]], [[1, 5, 4], [5, 5, 2], [2, 5, 4], [4, 5, 6], [6, 5, 3]], [[1, 6, 6], [2, 6, 6], [6, 6, 3], [3, 6, 6], [5, 6, 4]], [[1, 1, 2], [2, 2, 2], [3, 3, 2], [6, 6, 1], [4, 6, 4]], [[4, 4, 3], [5, 5, 1], [1, 5, 3], [2, 5, 3], [3, 5, 3]]]\n",
      "\n",
      "\n",
      "[[[2, 2, 2], [3, 5, 4], [4, 5, 6], [5, 5, 2], [6, 5, 3]], [[1, 1, 2], [4, 5, 6], [5, 5, 2], [3, 5, 4], [6, 5, 3]], [[1, 5, 4], [5, 5, 2], [2, 5, 4], [4, 5, 6], [6, 5, 3]], [[1, 6, 6], [2, 6, 6], [6, 6, 3], [3, 6, 6], [5, 6, 4]], [[1, 1, 2], [2, 2, 2], [3, 3, 2], [6, 6, 1], [4, 6, 4]], [[4, 4, 3], [5, 5, 1], [1, 5, 3], [2, 5, 3], [3, 5, 3]]]\n",
      "\n",
      "\n",
      "[[[2, 2, 2], [3, 5, 4], [4, 5, 6], [5, 5, 2], [6, 5, 3]], [[1, 1, 2], [4, 5, 6], [5, 5, 2], [3, 5, 4], [6, 5, 3]], [[1, 5, 4], [5, 5, 2], [2, 5, 4], [4, 5, 6], [6, 5, 3]], [[1, 6, 6], [2, 6, 6], [6, 6, 3], [3, 6, 6], [5, 6, 4]], [[1, 1, 2], [2, 2, 2], [3, 3, 2], [6, 6, 1], [4, 6, 4]], [[4, 4, 3], [5, 5, 1], [1, 5, 3], [2, 5, 3], [3, 5, 3]]]\n",
      "\n",
      "\n",
      "### Let's try this again! ###\n",
      "Iteration 3\n",
      "-----------------------------------------------\n",
      "[[[2, 2, 2], [3, 5, 4], [4, 5, 6], [5, 5, 2], [6, 5, 3]], [[1, 1, 2], [4, 5, 6], [5, 5, 2], [3, 5, 4], [6, 5, 3]], [[1, 5, 4], [5, 5, 2], [2, 5, 4], [4, 5, 6], [6, 5, 3]], [[1, 6, 6], [2, 6, 6], [6, 6, 3], [3, 6, 6], [5, 6, 4]], [[1, 1, 2], [2, 2, 2], [3, 3, 2], [6, 6, 1], [4, 6, 4]], [[4, 4, 3], [5, 5, 1], [1, 5, 3], [2, 5, 3], [3, 5, 3]]]\n",
      "\n",
      "\n",
      "[[[2, 2, 2], [3, 5, 4], [4, 5, 6], [5, 5, 2], [6, 5, 3]], [[1, 1, 2], [4, 5, 6], [5, 5, 2], [3, 5, 4], [6, 5, 3]], [[1, 5, 4], [5, 5, 2], [2, 5, 4], [4, 5, 6], [6, 5, 3]], [[1, 6, 6], [2, 6, 6], [6, 6, 3], [3, 6, 6], [5, 6, 4]], [[1, 1, 2], [2, 2, 2], [3, 3, 2], [6, 6, 1], [4, 6, 4]], [[4, 4, 3], [5, 5, 1], [1, 5, 3], [2, 5, 3], [3, 5, 3]]]\n",
      "\n",
      "\n",
      "[[[2, 2, 2], [3, 5, 4], [4, 5, 6], [5, 5, 2], [6, 5, 3]], [[1, 1, 2], [4, 5, 6], [5, 5, 2], [3, 5, 4], [6, 5, 3]], [[1, 5, 4], [5, 5, 2], [2, 5, 4], [4, 5, 6], [6, 5, 3]], [[1, 6, 6], [2, 6, 6], [6, 6, 3], [3, 6, 6], [5, 6, 4]], [[1, 1, 2], [2, 2, 2], [3, 3, 2], [6, 6, 1], [4, 6, 4]], [[4, 4, 3], [5, 5, 1], [1, 5, 3], [2, 5, 3], [3, 5, 3]]]\n",
      "\n",
      "\n",
      "[[[2, 2, 2], [3, 5, 4], [4, 5, 6], [5, 5, 2], [6, 5, 3]], [[1, 1, 2], [4, 5, 6], [5, 5, 2], [3, 5, 4], [6, 5, 3]], [[1, 5, 4], [5, 5, 2], [2, 5, 4], [4, 5, 6], [6, 5, 3]], [[1, 6, 6], [2, 6, 6], [6, 6, 3], [3, 6, 6], [5, 6, 4]], [[1, 1, 2], [2, 2, 2], [3, 3, 2], [6, 6, 1], [4, 6, 4]], [[4, 4, 3], [5, 5, 1], [1, 5, 3], [2, 5, 3], [3, 5, 3]]]\n",
      "\n",
      "\n",
      "[[[2, 2, 2], [3, 5, 4], [4, 5, 6], [5, 5, 2], [6, 5, 3]], [[1, 1, 2], [4, 5, 6], [5, 5, 2], [3, 5, 4], [6, 5, 3]], [[1, 5, 4], [5, 5, 2], [2, 5, 4], [4, 5, 6], [6, 5, 3]], [[1, 6, 6], [2, 6, 6], [6, 6, 3], [3, 6, 6], [5, 6, 4]], [[1, 1, 2], [2, 2, 2], [3, 3, 2], [6, 6, 1], [4, 6, 4]], [[4, 4, 3], [5, 5, 1], [1, 5, 3], [2, 5, 3], [3, 5, 3]]]\n",
      "\n",
      "\n",
      "[[[2, 2, 2], [3, 5, 4], [4, 5, 6], [5, 5, 2], [6, 5, 3]], [[1, 1, 2], [4, 5, 6], [5, 5, 2], [3, 5, 4], [6, 5, 3]], [[1, 5, 4], [5, 5, 2], [2, 5, 4], [4, 5, 6], [6, 5, 3]], [[1, 6, 6], [2, 6, 6], [6, 6, 3], [3, 6, 6], [5, 6, 4]], [[1, 1, 2], [2, 2, 2], [3, 3, 2], [6, 6, 1], [4, 6, 4]], [[4, 4, 3], [5, 5, 1], [1, 5, 3], [2, 5, 3], [3, 5, 3]]]\n",
      "\n",
      "\n",
      "Well, Yeah!\n",
      "Total time = 0.003000974655151367\n"
     ]
    }
   ],
   "source": [
    "iteration = 1\n",
    "start = time.time()\n",
    "\n",
    "while True:\n",
    "    print(f\"Iteration {iteration}\")\n",
    "    print(\"-----------------------------------------------\")\n",
    "    prev_routes = deepcopy(all_routes)\n",
    "    all_routes = update_routes(nodes, connected_nodes, all_routes)\n",
    "    \n",
    "    # Check if previous routing tables are equal to the updated routing tables\n",
    "    if prev_routes == all_routes:\n",
    "        print(\"Well, Yeah!\")\n",
    "        end = time.time()\n",
    "        print(\"Total time =\", end - start)\n",
    "        break\n",
    "        \n",
    "    else:\n",
    "        print(\"### Let's try this again! ###\")\n",
    "        iteration += 1"
   ]
  },
  {
   "cell_type": "code",
   "execution_count": null,
   "metadata": {},
   "outputs": [],
   "source": []
  }
 ],
 "metadata": {
  "kernelspec": {
   "display_name": "Python 3",
   "language": "python",
   "name": "python3"
  },
  "language_info": {
   "codemirror_mode": {
    "name": "ipython",
    "version": 3
   },
   "file_extension": ".py",
   "mimetype": "text/x-python",
   "name": "python",
   "nbconvert_exporter": "python",
   "pygments_lexer": "ipython3",
   "version": "3.8.10"
  }
 },
 "nbformat": 4,
 "nbformat_minor": 4
}
